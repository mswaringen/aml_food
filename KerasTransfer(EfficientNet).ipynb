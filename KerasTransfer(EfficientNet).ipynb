{
  "nbformat": 4,
  "nbformat_minor": 0,
  "metadata": {
    "colab": {
      "name": "KerasTransfer(EfficientNet).ipynb",
      "provenance": [],
      "machine_shape": "hm",
      "authorship_tag": "ABX9TyPmEXulZ25nnN0AIXgFRT81",
      "include_colab_link": true
    },
    "kernelspec": {
      "name": "python3",
      "display_name": "Python 3"
    },
    "accelerator": "GPU"
  },
  "cells": [
    {
      "cell_type": "markdown",
      "metadata": {
        "id": "view-in-github",
        "colab_type": "text"
      },
      "source": [
        "<a href=\"https://colab.research.google.com/github/mswaringen/aml_food/blob/master/KerasTransfer(EfficientNet).ipynb\" target=\"_parent\"><img src=\"https://colab.research.google.com/assets/colab-badge.svg\" alt=\"Open In Colab\"/></a>"
      ]
    },
    {
      "cell_type": "markdown",
      "metadata": {
        "id": "0nY6Ktgz2PSv"
      },
      "source": [
        "Based on https://keras.io/examples/vision/image_classification_efficientnet_fine_tuning/"
      ]
    },
    {
      "cell_type": "code",
      "metadata": {
        "colab": {
          "base_uri": "https://localhost:8080/"
        },
        "id": "J1VMncEAXGsU",
        "outputId": "99f25bea-ba69-4c97-d892-bd9bf7e30674"
      },
      "source": [
        "!pip install -U --pre efficientnet"
      ],
      "execution_count": 57,
      "outputs": [
        {
          "output_type": "stream",
          "text": [
            "Collecting efficientnet\n",
            "  Downloading https://files.pythonhosted.org/packages/53/97/84f88e581d6ac86dcf1ab347c497c4c568c38784e3a2bd659b96912ab793/efficientnet-1.1.1-py3-none-any.whl\n",
            "Collecting keras-applications<=1.0.8,>=1.0.7\n",
            "\u001b[?25l  Downloading https://files.pythonhosted.org/packages/71/e3/19762fdfc62877ae9102edf6342d71b28fbfd9dea3d2f96a882ce099b03f/Keras_Applications-1.0.8-py3-none-any.whl (50kB)\n",
            "\u001b[K     |████████████████████████████████| 51kB 5.2MB/s \n",
            "\u001b[?25hRequirement already satisfied, skipping upgrade: scikit-image in /usr/local/lib/python3.6/dist-packages (from efficientnet) (0.16.2)\n",
            "Requirement already satisfied, skipping upgrade: numpy>=1.9.1 in /usr/local/lib/python3.6/dist-packages (from keras-applications<=1.0.8,>=1.0.7->efficientnet) (1.18.5)\n",
            "Requirement already satisfied, skipping upgrade: h5py in /usr/local/lib/python3.6/dist-packages (from keras-applications<=1.0.8,>=1.0.7->efficientnet) (2.10.0)\n",
            "Requirement already satisfied, skipping upgrade: imageio>=2.3.0 in /usr/local/lib/python3.6/dist-packages (from scikit-image->efficientnet) (2.4.1)\n",
            "Requirement already satisfied, skipping upgrade: networkx>=2.0 in /usr/local/lib/python3.6/dist-packages (from scikit-image->efficientnet) (2.5)\n",
            "Requirement already satisfied, skipping upgrade: scipy>=0.19.0 in /usr/local/lib/python3.6/dist-packages (from scikit-image->efficientnet) (1.4.1)\n",
            "Requirement already satisfied, skipping upgrade: matplotlib!=3.0.0,>=2.0.0 in /usr/local/lib/python3.6/dist-packages (from scikit-image->efficientnet) (3.2.2)\n",
            "Requirement already satisfied, skipping upgrade: PyWavelets>=0.4.0 in /usr/local/lib/python3.6/dist-packages (from scikit-image->efficientnet) (1.1.1)\n",
            "Requirement already satisfied, skipping upgrade: pillow>=4.3.0 in /usr/local/lib/python3.6/dist-packages (from scikit-image->efficientnet) (7.0.0)\n",
            "Requirement already satisfied, skipping upgrade: six in /usr/local/lib/python3.6/dist-packages (from h5py->keras-applications<=1.0.8,>=1.0.7->efficientnet) (1.15.0)\n",
            "Requirement already satisfied, skipping upgrade: decorator>=4.3.0 in /usr/local/lib/python3.6/dist-packages (from networkx>=2.0->scikit-image->efficientnet) (4.4.2)\n",
            "Requirement already satisfied, skipping upgrade: cycler>=0.10 in /usr/local/lib/python3.6/dist-packages (from matplotlib!=3.0.0,>=2.0.0->scikit-image->efficientnet) (0.10.0)\n",
            "Requirement already satisfied, skipping upgrade: python-dateutil>=2.1 in /usr/local/lib/python3.6/dist-packages (from matplotlib!=3.0.0,>=2.0.0->scikit-image->efficientnet) (2.8.1)\n",
            "Requirement already satisfied, skipping upgrade: pyparsing!=2.0.4,!=2.1.2,!=2.1.6,>=2.0.1 in /usr/local/lib/python3.6/dist-packages (from matplotlib!=3.0.0,>=2.0.0->scikit-image->efficientnet) (2.4.7)\n",
            "Requirement already satisfied, skipping upgrade: kiwisolver>=1.0.1 in /usr/local/lib/python3.6/dist-packages (from matplotlib!=3.0.0,>=2.0.0->scikit-image->efficientnet) (1.3.1)\n",
            "Installing collected packages: keras-applications, efficientnet\n",
            "Successfully installed efficientnet-1.1.1 keras-applications-1.0.8\n"
          ],
          "name": "stdout"
        }
      ]
    },
    {
      "cell_type": "code",
      "metadata": {
        "id": "7FrGtGro7MpA"
      },
      "source": [
        "# import os\n",
        "\n",
        "# resolver = tf.distribute.cluster_resolver.TPUClusterResolver(tpu='grpc://' + os.environ['COLAB_TPU_ADDR'])\n",
        "# tf.config.experimental_connect_to_cluster(resolver)\n",
        "# # This is the TPU initialization code that has to be at the beginning.\n",
        "# tf.tpu.experimental.initialize_tpu_system(resolver)\n",
        "# print(\"All devices: \", tf.config.list_logical_devices('TPU'))"
      ],
      "execution_count": 1,
      "outputs": []
    },
    {
      "cell_type": "code",
      "metadata": {
        "colab": {
          "base_uri": "https://localhost:8080/"
        },
        "id": "xh5EXXJ02wru",
        "outputId": "f2474efc-f240-48fc-b663-c06ce8a52e49"
      },
      "source": [
        "# # from cloud_tpu_client import Client\n",
        "# # c = Client()\n",
        "# # c.configure_tpu_version(tf.__version__, restart_type=\"always\")\n",
        "\n",
        "\n",
        "\n",
        "import tensorflow as tf\n",
        "\n",
        "try:\n",
        "    tpu = tf.distribute.cluster_resolver.TPUClusterResolver()  # TPU detection\n",
        "    print(\"Running on TPU \", tpu.cluster_spec().as_dict()[\"worker\"])\n",
        "    tf.config.experimental_connect_to_cluster(tpu)\n",
        "    tf.tpu.experimental.initialize_tpu_system(tpu)\n",
        "    strategy = tf.distribute.experimental.TPUStrategy(tpu)\n",
        "except ValueError:\n",
        "    print(\"Not connected to a TPU runtime. Using CPU/GPU strategy\")\n",
        "    strategy = tf.distribute.MirroredStrategy()"
      ],
      "execution_count": 16,
      "outputs": [
        {
          "output_type": "stream",
          "text": [
            "Not connected to a TPU runtime. Using CPU/GPU strategy\n",
            "INFO:tensorflow:Using MirroredStrategy with devices ('/job:localhost/replica:0/task:0/device:GPU:0',)\n"
          ],
          "name": "stdout"
        }
      ]
    },
    {
      "cell_type": "code",
      "metadata": {
        "id": "JwH5ugG82P7r"
      },
      "source": [
        "from keras.models import Sequential\n",
        "#Import from keras_preprocessing not from keras.preprocessing\n",
        "from keras_preprocessing.image import ImageDataGenerator\n",
        "from tensorflow.keras import layers\n",
        "from keras.layers import Dense, Activation, Flatten, Dropout, BatchNormalization\n",
        "from keras.layers import Conv2D, MaxPooling2D\n",
        "from keras import regularizers, optimizers\n",
        "from keras.callbacks import ModelCheckpoint\n",
        "from tensorflow.keras.applications import EfficientNetB0, EfficientNetB3\n",
        "from tensorflow.keras.layers.experimental import preprocessing\n",
        "import keras\n",
        "import pandas as pd\n",
        "import numpy as np\n",
        "import matplotlib.pyplot as plt\n",
        "import efficientnet.keras as efn\n",
        "from tensorflow.keras.models import load_model"
      ],
      "execution_count": 58,
      "outputs": []
    },
    {
      "cell_type": "code",
      "metadata": {
        "colab": {
          "base_uri": "https://localhost:8080/"
        },
        "id": "Avo-PlRC2Zj3",
        "outputId": "7582fad9-bba7-4862-bf4b-f0813641e7bc"
      },
      "source": [
        "# download and unzip locally\n",
        "\n",
        "downzip=True\n",
        "\n",
        "if downzip:\n",
        "  !mkdir data\n",
        "  %cd data\n",
        "  !wget --load-cookies /tmp/cookies.txt \"https://docs.google.com/uc?export=download&confirm=$(wget --quiet --save-cookies /tmp/cookies.txt --keep-session-cookies --no-check-certificate 'https://docs.google.com/uc?export=download&id=1Io_dwM_UujedpHWjRvMpZQ5mtOoeGTDV' -O- | sed -rn 's/.*confirm=([0-9A-Za-z_]+).*/\\1\\n/p')&id=1Io_dwM_UujedpHWjRvMpZQ5mtOoeGTDV\" -O final-project-food-recognition-challenge.zip && rm -rf /tmp/cookies.txt\n",
        "  !unzip final-project-food-recognition-challenge.zip\n",
        "  %cd ..\n",
        "  !mkdir outputs"
      ],
      "execution_count": 15,
      "outputs": [
        {
          "output_type": "stream",
          "text": [
            "mkdir: cannot create directory ‘data’: File exists\n",
            "/content/data\n",
            "--2020-12-08 11:01:46--  https://docs.google.com/uc?export=download&confirm=jBEX&id=1Io_dwM_UujedpHWjRvMpZQ5mtOoeGTDV\n",
            "Resolving docs.google.com (docs.google.com)... 108.177.126.100, 108.177.126.139, 108.177.126.102, ...\n",
            "Connecting to docs.google.com (docs.google.com)|108.177.126.100|:443... connected.\n",
            "HTTP request sent, awaiting response... 302 Moved Temporarily\n",
            "Location: https://doc-10-4k-docs.googleusercontent.com/docs/securesc/bv2oc8dhubukab6vqu9lkepcb7nobip3/74m2vebdmtolc8hj64ke24q588fom2f1/1607425275000/10490392775048702533/11158179825245729509Z/1Io_dwM_UujedpHWjRvMpZQ5mtOoeGTDV?e=download [following]\n",
            "--2020-12-08 11:01:46--  https://doc-10-4k-docs.googleusercontent.com/docs/securesc/bv2oc8dhubukab6vqu9lkepcb7nobip3/74m2vebdmtolc8hj64ke24q588fom2f1/1607425275000/10490392775048702533/11158179825245729509Z/1Io_dwM_UujedpHWjRvMpZQ5mtOoeGTDV?e=download\n",
            "Resolving doc-10-4k-docs.googleusercontent.com (doc-10-4k-docs.googleusercontent.com)... 173.194.79.132, 2a00:1450:4013:c05::84\n",
            "Connecting to doc-10-4k-docs.googleusercontent.com (doc-10-4k-docs.googleusercontent.com)|173.194.79.132|:443... connected.\n",
            "HTTP request sent, awaiting response... 302 Found\n",
            "Location: https://docs.google.com/nonceSigner?nonce=iiqufkk8jhguq&continue=https://doc-10-4k-docs.googleusercontent.com/docs/securesc/bv2oc8dhubukab6vqu9lkepcb7nobip3/74m2vebdmtolc8hj64ke24q588fom2f1/1607425275000/10490392775048702533/11158179825245729509Z/1Io_dwM_UujedpHWjRvMpZQ5mtOoeGTDV?e%3Ddownload&hash=njg6vjfm6kh1stoonantcluggqcl6lan [following]\n",
            "--2020-12-08 11:01:46--  https://docs.google.com/nonceSigner?nonce=iiqufkk8jhguq&continue=https://doc-10-4k-docs.googleusercontent.com/docs/securesc/bv2oc8dhubukab6vqu9lkepcb7nobip3/74m2vebdmtolc8hj64ke24q588fom2f1/1607425275000/10490392775048702533/11158179825245729509Z/1Io_dwM_UujedpHWjRvMpZQ5mtOoeGTDV?e%3Ddownload&hash=njg6vjfm6kh1stoonantcluggqcl6lan\n",
            "Connecting to docs.google.com (docs.google.com)|108.177.126.100|:443... connected.\n",
            "HTTP request sent, awaiting response... 302 Found\n",
            "Location: https://doc-10-4k-docs.googleusercontent.com/docs/securesc/bv2oc8dhubukab6vqu9lkepcb7nobip3/74m2vebdmtolc8hj64ke24q588fom2f1/1607425275000/10490392775048702533/11158179825245729509Z/1Io_dwM_UujedpHWjRvMpZQ5mtOoeGTDV?e=download&nonce=iiqufkk8jhguq&user=11158179825245729509Z&hash=5nsrqik7l3hrof7tqaahi65aknh5quiu [following]\n",
            "--2020-12-08 11:01:46--  https://doc-10-4k-docs.googleusercontent.com/docs/securesc/bv2oc8dhubukab6vqu9lkepcb7nobip3/74m2vebdmtolc8hj64ke24q588fom2f1/1607425275000/10490392775048702533/11158179825245729509Z/1Io_dwM_UujedpHWjRvMpZQ5mtOoeGTDV?e=download&nonce=iiqufkk8jhguq&user=11158179825245729509Z&hash=5nsrqik7l3hrof7tqaahi65aknh5quiu\n",
            "Connecting to doc-10-4k-docs.googleusercontent.com (doc-10-4k-docs.googleusercontent.com)|173.194.79.132|:443... connected.\n",
            "HTTP request sent, awaiting response... 200 OK\n",
            "Length: unspecified [application/x-zip-compressed]\n",
            "Saving to: ‘final-project-food-recognition-challenge.zip’\n",
            "\n",
            "final-project-food-     [             <=>    ] 698.78M   122MB/s    in 5.9s    \n",
            "\n",
            "2020-12-08 11:01:53 (119 MB/s) - ‘final-project-food-recognition-challenge.zip’ saved [732726876]\n",
            "\n",
            "Archive:  final-project-food-recognition-challenge.zip\n",
            "replace sample.csv? [y]es, [n]o, [A]ll, [N]one, [r]ename: /content\n",
            "mkdir: cannot create directory ‘outputs’: File exists\n"
          ],
          "name": "stdout"
        }
      ]
    },
    {
      "cell_type": "code",
      "metadata": {
        "colab": {
          "base_uri": "https://localhost:8080/"
        },
        "id": "OSxKV5aC2eiB",
        "outputId": "6a2220ad-fdba-46f8-9788-5297cfa68e5c"
      },
      "source": [
        "traindf = pd.read_csv('data/train_labels.csv',dtype=str)\n",
        "testdf = pd.read_csv('data/sample.csv',dtype=str)\n",
        "\n",
        "datagen = ImageDataGenerator(rescale=1./255.,validation_split=0.20)\n",
        "batch_size = 32\n",
        "image_size = (300,300)\n",
        "NUM_CLASSES = 80\n",
        "IMG_SIZE = 300\n",
        "\n",
        "train_generator=datagen.flow_from_dataframe(\n",
        "dataframe=traindf,\n",
        "directory=\"data/train_set/train_set/\",\n",
        "x_col=\"img_name\",\n",
        "y_col=\"label\",\n",
        "subset=\"training\",\n",
        "batch_size=batch_size,\n",
        "seed=42,\n",
        "shuffle=True,\n",
        "class_mode=\"categorical\",\n",
        "target_size=image_size)\n",
        "\n",
        "valid_generator=datagen.flow_from_dataframe(\n",
        "dataframe=traindf,\n",
        "directory=\"data/train_set/train_set/\",\n",
        "x_col=\"img_name\",\n",
        "y_col=\"label\",\n",
        "subset=\"validation\",\n",
        "batch_size=batch_size,\n",
        "seed=42,\n",
        "shuffle=True,\n",
        "class_mode=\"categorical\",\n",
        "target_size=image_size)\n",
        "\n",
        "test_datagen=ImageDataGenerator(rescale=1./255.)\n",
        "\n",
        "test_generator=test_datagen.flow_from_dataframe(\n",
        "dataframe=testdf,\n",
        "directory=\"data/test_set/test_set/\",\n",
        "x_col=\"img_name\",\n",
        "y_col=\"label\",\n",
        "batch_size=1,\n",
        "seed=42,\n",
        "shuffle=False,\n",
        "class_mode=None,\n",
        "target_size=image_size)"
      ],
      "execution_count": 61,
      "outputs": [
        {
          "output_type": "stream",
          "text": [
            "Found 24490 validated image filenames belonging to 80 classes.\n",
            "Found 6122 validated image filenames belonging to 80 classes.\n",
            "Found 7653 validated image filenames.\n"
          ],
          "name": "stdout"
        }
      ]
    },
    {
      "cell_type": "code",
      "metadata": {
        "id": "iEGZ_Jlg2k7-"
      },
      "source": [
        "img_augmentation = Sequential(\n",
        "    [\n",
        "        preprocessing.RandomRotation(factor=0.15),\n",
        "        preprocessing.RandomTranslation(height_factor=0.1, width_factor=0.1),\n",
        "        preprocessing.RandomFlip(),\n",
        "        preprocessing.RandomContrast(factor=0.1),\n",
        "    ],\n",
        "    name=\"img_augmentation\",\n",
        ")"
      ],
      "execution_count": 62,
      "outputs": []
    },
    {
      "cell_type": "code",
      "metadata": {
        "id": "ap3olyZ_Cx9M"
      },
      "source": [
        "callbacks = [\n",
        "    keras.callbacks.ModelCheckpoint(\"save_at_{epoch}.h5\",verbose=1,save_best_only=True),\n",
        "    tf.keras.callbacks.EarlyStopping(\n",
        "    monitor='val_loss', min_delta=0.01,mode = 'min',\n",
        "    patience=5,verbose = 0, restore_best_weights = True)\n",
        "]"
      ],
      "execution_count": 63,
      "outputs": []
    },
    {
      "cell_type": "code",
      "metadata": {
        "id": "_MPDhKZy3Mz6"
      },
      "source": [
        "# with strategy.scope():\n",
        "#     inputs = layers.Input(shape=(IMG_SIZE, IMG_SIZE, 3))\n",
        "#     x = img_augmentation(inputs)\n",
        "#     outputs = EfficientNetB3(include_top=True, weights=None, classes=NUM_CLASSES)(x)\n",
        "\n",
        "#     model = tf.keras.Model(inputs, outputs)\n",
        "#     model.compile(\n",
        "#         optimizer=\"adam\", loss=\"categorical_crossentropy\", metrics=[\"accuracy\"]\n",
        "#     )\n",
        "\n",
        "# model.summary()\n",
        "\n",
        "# epochs = 25 \n",
        "# hist = model.fit(train_generator, \n",
        "#                  epochs=epochs,\n",
        "#                  validation_data=valid_generator,\n",
        "#                  callbacks=callbacks, \n",
        "#                  verbose=1)"
      ],
      "execution_count": 72,
      "outputs": []
    },
    {
      "cell_type": "code",
      "metadata": {
        "id": "wWRvKy7o5RrV"
      },
      "source": [
        "def plot_hist(hist):\n",
        "    plt.plot(hist.history[\"accuracy\"])\n",
        "    plt.plot(hist.history[\"val_accuracy\"])\n",
        "    plt.title(\"model accuracy\")\n",
        "    plt.ylabel(\"accuracy\")\n",
        "    plt.xlabel(\"epoch\")\n",
        "    plt.legend([\"train\", \"validation\"], loc=\"upper left\")\n",
        "    plt.show()"
      ],
      "execution_count": 66,
      "outputs": []
    },
    {
      "cell_type": "code",
      "metadata": {
        "id": "J5-ktxWE-7gg"
      },
      "source": [
        "# plot_hist(hist)"
      ],
      "execution_count": null,
      "outputs": []
    },
    {
      "cell_type": "code",
      "metadata": {
        "id": "lUzsA2kA5SbC"
      },
      "source": [
        "def build_model(num_classes):\n",
        "    inputs = layers.Input(shape=(IMG_SIZE, IMG_SIZE, 3))\n",
        "    x = img_augmentation(inputs)\n",
        "    model = efn.EfficientNetB3(include_top=False, input_tensor=x, weights='noisy-student') \n",
        "    # model = EfficientNetB3(include_top=False, input_tensor=x, weights=\"noisy-student\")\n",
        "    # model.load_weights(\"efficientnet-b3_noisy-student_notop.h5\")\n",
        "    # model.input_tensor(x)\n",
        "    # Freeze the pretrained weights\n",
        "    model.trainable = False\n",
        "\n",
        "    # Rebuild top\n",
        "    x = layers.GlobalAveragePooling2D(name=\"avg_pool\")(model.output)\n",
        "    x = layers.BatchNormalization()(x)\n",
        "\n",
        "    top_dropout_rate = 0.5\n",
        "    x = layers.Dropout(top_dropout_rate, name=\"top_dropout\")(x)\n",
        "    outputs = layers.Dense(NUM_CLASSES, activation=\"softmax\", name=\"pred\")(x)\n",
        "\n",
        "    # Compile\n",
        "    model = tf.keras.Model(inputs, outputs, name=\"EfficientNet\")\n",
        "    optimizer = tf.keras.optimizers.Adam(learning_rate=1e-4)\n",
        "    model.compile(\n",
        "        optimizer=optimizer, loss=\"categorical_crossentropy\", metrics=[\"accuracy\"]\n",
        "    )\n",
        "    return model"
      ],
      "execution_count": 64,
      "outputs": []
    },
    {
      "cell_type": "code",
      "metadata": {
        "colab": {
          "base_uri": "https://localhost:8080/",
          "height": 1000
        },
        "id": "2BgKvIGJ6JY6",
        "outputId": "c6a6eafd-b8af-42e0-a67a-c3f63965c261"
      },
      "source": [
        "with strategy.scope():\n",
        "    model = build_model(num_classes=NUM_CLASSES)\n",
        "# model.summary() \n",
        "epochs = 25  \n",
        "hist = model.fit(train_generator, \n",
        "                 epochs=epochs,\n",
        "                 validation_data=valid_generator,\n",
        "                 callbacks=callbacks, \n",
        "                 verbose=1)\n",
        "plot_hist(hist)"
      ],
      "execution_count": 67,
      "outputs": [
        {
          "output_type": "stream",
          "text": [
            "Epoch 1/25\n",
            "766/766 [==============================] - ETA: 0s - loss: 4.9989 - accuracy: 0.0555\n",
            "Epoch 00001: val_loss did not improve from 3.20952\n",
            "766/766 [==============================] - 102s 134ms/step - loss: 4.9989 - accuracy: 0.0555 - val_loss: 3.2430 - val_accuracy: 0.2306\n",
            "Epoch 2/25\n",
            "766/766 [==============================] - ETA: 0s - loss: 3.9420 - accuracy: 0.1523\n",
            "Epoch 00002: val_loss improved from 3.20952 to 2.59890, saving model to save_at_2.h5\n",
            "766/766 [==============================] - 100s 130ms/step - loss: 3.9420 - accuracy: 0.1523 - val_loss: 2.5989 - val_accuracy: 0.3616\n",
            "Epoch 3/25\n",
            "766/766 [==============================] - ETA: 0s - loss: 3.4968 - accuracy: 0.2134\n",
            "Epoch 00003: val_loss improved from 2.59890 to 2.35325, saving model to save_at_3.h5\n",
            "766/766 [==============================] - 100s 131ms/step - loss: 3.4968 - accuracy: 0.2134 - val_loss: 2.3532 - val_accuracy: 0.4188\n",
            "Epoch 4/25\n",
            "766/766 [==============================] - ETA: 0s - loss: 3.2672 - accuracy: 0.2503\n",
            "Epoch 00004: val_loss improved from 2.35325 to 2.20089, saving model to save_at_4.h5\n",
            "766/766 [==============================] - 101s 131ms/step - loss: 3.2672 - accuracy: 0.2503 - val_loss: 2.2009 - val_accuracy: 0.4536\n",
            "Epoch 5/25\n",
            "766/766 [==============================] - ETA: 0s - loss: 3.1054 - accuracy: 0.2758\n",
            "Epoch 00005: val_loss improved from 2.20089 to 2.10443, saving model to save_at_5.h5\n",
            "766/766 [==============================] - 101s 131ms/step - loss: 3.1054 - accuracy: 0.2758 - val_loss: 2.1044 - val_accuracy: 0.4801\n",
            "Epoch 6/25\n",
            "766/766 [==============================] - ETA: 0s - loss: 2.9653 - accuracy: 0.3014\n",
            "Epoch 00006: val_loss improved from 2.10443 to 2.04727, saving model to save_at_6.h5\n",
            "766/766 [==============================] - 100s 130ms/step - loss: 2.9653 - accuracy: 0.3014 - val_loss: 2.0473 - val_accuracy: 0.4860\n",
            "Epoch 7/25\n",
            "766/766 [==============================] - ETA: 0s - loss: 2.8844 - accuracy: 0.3156\n",
            "Epoch 00007: val_loss improved from 2.04727 to 1.99187, saving model to save_at_7.h5\n",
            "766/766 [==============================] - 100s 130ms/step - loss: 2.8844 - accuracy: 0.3156 - val_loss: 1.9919 - val_accuracy: 0.5000\n",
            "Epoch 8/25\n",
            "766/766 [==============================] - ETA: 0s - loss: 2.8008 - accuracy: 0.3303\n",
            "Epoch 00008: val_loss improved from 1.99187 to 1.95128, saving model to save_at_8.h5\n",
            "766/766 [==============================] - 100s 131ms/step - loss: 2.8008 - accuracy: 0.3303 - val_loss: 1.9513 - val_accuracy: 0.5186\n",
            "Epoch 9/25\n",
            "766/766 [==============================] - ETA: 0s - loss: 2.7346 - accuracy: 0.3421\n",
            "Epoch 00009: val_loss improved from 1.95128 to 1.92364, saving model to save_at_9.h5\n",
            "766/766 [==============================] - 101s 131ms/step - loss: 2.7346 - accuracy: 0.3421 - val_loss: 1.9236 - val_accuracy: 0.5178\n",
            "Epoch 10/25\n",
            "766/766 [==============================] - ETA: 0s - loss: 2.6890 - accuracy: 0.3486\n",
            "Epoch 00010: val_loss improved from 1.92364 to 1.89815, saving model to save_at_10.h5\n",
            "766/766 [==============================] - 100s 130ms/step - loss: 2.6890 - accuracy: 0.3486 - val_loss: 1.8981 - val_accuracy: 0.5270\n",
            "Epoch 11/25\n",
            "766/766 [==============================] - ETA: 0s - loss: 2.6477 - accuracy: 0.3614\n",
            "Epoch 00011: val_loss improved from 1.89815 to 1.87763, saving model to save_at_11.h5\n",
            "766/766 [==============================] - 99s 130ms/step - loss: 2.6477 - accuracy: 0.3614 - val_loss: 1.8776 - val_accuracy: 0.5266\n",
            "Epoch 12/25\n",
            "766/766 [==============================] - ETA: 0s - loss: 2.6043 - accuracy: 0.3670\n",
            "Epoch 00012: val_loss improved from 1.87763 to 1.86119, saving model to save_at_12.h5\n",
            "766/766 [==============================] - 100s 130ms/step - loss: 2.6043 - accuracy: 0.3670 - val_loss: 1.8612 - val_accuracy: 0.5372\n",
            "Epoch 13/25\n",
            "766/766 [==============================] - ETA: 0s - loss: 2.5688 - accuracy: 0.3716\n",
            "Epoch 00013: val_loss improved from 1.86119 to 1.83948, saving model to save_at_13.h5\n",
            "766/766 [==============================] - 100s 131ms/step - loss: 2.5688 - accuracy: 0.3716 - val_loss: 1.8395 - val_accuracy: 0.5418\n",
            "Epoch 14/25\n",
            "766/766 [==============================] - ETA: 0s - loss: 2.5458 - accuracy: 0.3751\n",
            "Epoch 00014: val_loss improved from 1.83948 to 1.82951, saving model to save_at_14.h5\n",
            "766/766 [==============================] - 99s 130ms/step - loss: 2.5458 - accuracy: 0.3751 - val_loss: 1.8295 - val_accuracy: 0.5410\n",
            "Epoch 15/25\n",
            "766/766 [==============================] - ETA: 0s - loss: 2.5074 - accuracy: 0.3821\n",
            "Epoch 00015: val_loss improved from 1.82951 to 1.81046, saving model to save_at_15.h5\n",
            "766/766 [==============================] - 99s 130ms/step - loss: 2.5074 - accuracy: 0.3821 - val_loss: 1.8105 - val_accuracy: 0.5448\n",
            "Epoch 16/25\n",
            "766/766 [==============================] - ETA: 0s - loss: 2.4831 - accuracy: 0.3855\n",
            "Epoch 00016: val_loss improved from 1.81046 to 1.80790, saving model to save_at_16.h5\n",
            "766/766 [==============================] - 99s 129ms/step - loss: 2.4831 - accuracy: 0.3855 - val_loss: 1.8079 - val_accuracy: 0.5480\n",
            "Epoch 17/25\n",
            "766/766 [==============================] - ETA: 0s - loss: 2.4696 - accuracy: 0.3913\n",
            "Epoch 00017: val_loss improved from 1.80790 to 1.79915, saving model to save_at_17.h5\n",
            "766/766 [==============================] - 100s 131ms/step - loss: 2.4696 - accuracy: 0.3913 - val_loss: 1.7991 - val_accuracy: 0.5479\n",
            "Epoch 18/25\n",
            "766/766 [==============================] - ETA: 0s - loss: 2.4602 - accuracy: 0.3892\n",
            "Epoch 00018: val_loss improved from 1.79915 to 1.79600, saving model to save_at_18.h5\n",
            "766/766 [==============================] - 99s 130ms/step - loss: 2.4602 - accuracy: 0.3892 - val_loss: 1.7960 - val_accuracy: 0.5466\n",
            "Epoch 19/25\n",
            "766/766 [==============================] - ETA: 0s - loss: 2.4241 - accuracy: 0.3973\n",
            "Epoch 00019: val_loss improved from 1.79600 to 1.78239, saving model to save_at_19.h5\n",
            "766/766 [==============================] - 100s 130ms/step - loss: 2.4241 - accuracy: 0.3973 - val_loss: 1.7824 - val_accuracy: 0.5526\n",
            "Epoch 20/25\n",
            "766/766 [==============================] - ETA: 0s - loss: 2.4069 - accuracy: 0.4004\n",
            "Epoch 00020: val_loss improved from 1.78239 to 1.77216, saving model to save_at_20.h5\n",
            "766/766 [==============================] - 99s 129ms/step - loss: 2.4069 - accuracy: 0.4004 - val_loss: 1.7722 - val_accuracy: 0.5582\n",
            "Epoch 21/25\n",
            "766/766 [==============================] - ETA: 0s - loss: 2.3970 - accuracy: 0.4013\n",
            "Epoch 00021: val_loss did not improve from 1.77216\n",
            "766/766 [==============================] - 98s 128ms/step - loss: 2.3970 - accuracy: 0.4013 - val_loss: 1.7730 - val_accuracy: 0.5550\n",
            "Epoch 22/25\n",
            "766/766 [==============================] - ETA: 0s - loss: 2.3772 - accuracy: 0.4056\n",
            "Epoch 00022: val_loss improved from 1.77216 to 1.76147, saving model to save_at_22.h5\n",
            "766/766 [==============================] - 99s 129ms/step - loss: 2.3772 - accuracy: 0.4056 - val_loss: 1.7615 - val_accuracy: 0.5577\n",
            "Epoch 23/25\n",
            "766/766 [==============================] - ETA: 0s - loss: 2.3534 - accuracy: 0.4116\n",
            "Epoch 00023: val_loss improved from 1.76147 to 1.75583, saving model to save_at_23.h5\n",
            "766/766 [==============================] - 99s 129ms/step - loss: 2.3534 - accuracy: 0.4116 - val_loss: 1.7558 - val_accuracy: 0.5552\n",
            "Epoch 24/25\n",
            "766/766 [==============================] - ETA: 0s - loss: 2.3453 - accuracy: 0.4116\n",
            "Epoch 00024: val_loss did not improve from 1.75583\n",
            "766/766 [==============================] - 98s 128ms/step - loss: 2.3453 - accuracy: 0.4116 - val_loss: 1.7607 - val_accuracy: 0.5560\n",
            "Epoch 25/25\n",
            "766/766 [==============================] - ETA: 0s - loss: 2.3409 - accuracy: 0.4119\n",
            "Epoch 00025: val_loss improved from 1.75583 to 1.75218, saving model to save_at_25.h5\n",
            "766/766 [==============================] - 99s 129ms/step - loss: 2.3409 - accuracy: 0.4119 - val_loss: 1.7522 - val_accuracy: 0.5560\n"
          ],
          "name": "stdout"
        },
        {
          "output_type": "display_data",
          "data": {
            "image/png": "[encoded data removed]",
            "text/plain": [
              "<Figure size 432x288 with 1 Axes>"
            ]
          },
          "metadata": {
            "tags": [],
            "needs_background": "light"
          }
        }
      ]
    },
    {
      "cell_type": "code",
      "metadata": {
        "id": "sEkg6XLn6PeX",
        "colab": {
          "base_uri": "https://localhost:8080/",
          "height": 642
        },
        "outputId": "d7c33d73-36cb-4faf-cc19-0092c6dac869"
      },
      "source": [
        "def unfreeze_model(model):\n",
        "    # We unfreeze the top 20 layers while leaving BatchNorm layers frozen\n",
        "    for layer in model.layers[-20:]:\n",
        "        if not isinstance(layer, layers.BatchNormalization):\n",
        "            layer.trainable = True\n",
        "\n",
        "    optimizer = tf.keras.optimizers.Adam(learning_rate=1e-4)\n",
        "    model.compile(\n",
        "        optimizer=optimizer, loss=\"categorical_crossentropy\", metrics=[\"accuracy\"]\n",
        "    )\n",
        "\n",
        "\n",
        "unfreeze_model(model)\n",
        "\n",
        "epochs = 10  \n",
        "hist = model.fit(train_generator, epochs=epochs, validation_data=valid_generator, verbose=1)\n",
        "plot_hist(hist)"
      ],
      "execution_count": 68,
      "outputs": [
        {
          "output_type": "stream",
          "text": [
            "Epoch 1/10\n",
            "766/766 [==============================] - 103s 134ms/step - loss: 2.2381 - accuracy: 0.4370 - val_loss: 1.6686 - val_accuracy: 0.5864\n",
            "Epoch 2/10\n",
            "766/766 [==============================] - 101s 131ms/step - loss: 2.1420 - accuracy: 0.4592 - val_loss: 1.6344 - val_accuracy: 0.5943\n",
            "Epoch 3/10\n",
            "766/766 [==============================] - 101s 132ms/step - loss: 2.0839 - accuracy: 0.4717 - val_loss: 1.6096 - val_accuracy: 0.5982\n",
            "Epoch 4/10\n",
            "766/766 [==============================] - 100s 131ms/step - loss: 2.0371 - accuracy: 0.4780 - val_loss: 1.5920 - val_accuracy: 0.6052\n",
            "Epoch 5/10\n",
            "766/766 [==============================] - 100s 131ms/step - loss: 1.9847 - accuracy: 0.4902 - val_loss: 1.5679 - val_accuracy: 0.6101\n",
            "Epoch 6/10\n",
            "766/766 [==============================] - 101s 131ms/step - loss: 1.9429 - accuracy: 0.4974 - val_loss: 1.5625 - val_accuracy: 0.6117\n",
            "Epoch 7/10\n",
            "766/766 [==============================] - 100s 130ms/step - loss: 1.9074 - accuracy: 0.5070 - val_loss: 1.5391 - val_accuracy: 0.6166\n",
            "Epoch 8/10\n",
            "766/766 [==============================] - 100s 130ms/step - loss: 1.8687 - accuracy: 0.5152 - val_loss: 1.5471 - val_accuracy: 0.6156\n",
            "Epoch 9/10\n",
            "766/766 [==============================] - 100s 131ms/step - loss: 1.8356 - accuracy: 0.5214 - val_loss: 1.5330 - val_accuracy: 0.6129\n",
            "Epoch 10/10\n",
            "766/766 [==============================] - 100s 130ms/step - loss: 1.8006 - accuracy: 0.5306 - val_loss: 1.5117 - val_accuracy: 0.6196\n"
          ],
          "name": "stdout"
        },
        {
          "output_type": "display_data",
          "data": {
            "image/png": "[encoded data removed]",
            "text/plain": [
              "<Figure size 432x288 with 1 Axes>"
            ]
          },
          "metadata": {
            "tags": [],
            "needs_background": "light"
          }
        }
      ]
    },
    {
      "cell_type": "code",
      "metadata": {
        "id": "_NfbwItXpjE8",
        "outputId": "a82b5a0a-6f75-4333-88f6-6f7827c02805",
        "colab": {
          "base_uri": "https://localhost:8080/"
        }
      },
      "source": [
        "loss, accuracy = model.evaluate(valid_generator)\n",
        "print(\"Validation: accuracy = %f  ;  loss = %f \" % (accuracy, loss))"
      ],
      "execution_count": 70,
      "outputs": [
        {
          "output_type": "stream",
          "text": [
            "192/192 [==============================] - 20s 102ms/step - loss: 1.5117 - accuracy: 0.6196\n",
            "Validation: accuracy = 0.619569  ;  loss = 1.511702 \n"
          ],
          "name": "stdout"
        }
      ]
    },
    {
      "cell_type": "code",
      "metadata": {
        "id": "rNSP_liUPIxS",
        "colab": {
          "base_uri": "https://localhost:8080/"
        },
        "outputId": "dcc5915d-7906-4a2d-8e2c-de805675fa5a"
      },
      "source": [
        "test_generator.reset()\n",
        "\n",
        "pred=model.predict(test_generator,\n",
        "steps=test_generator.n//test_generator.batch_size,\n",
        "verbose=1)\n",
        "\n",
        "predicted_class_indices=np.argmax(pred,axis=1)\n",
        "\n",
        "labels = (train_generator.class_indices)\n",
        "labels = dict((v,k) for k,v in labels.items())\n",
        "predictions = [labels[k] for k in predicted_class_indices]\n",
        "\n",
        "filenames=test_generator.filenames\n",
        "results=pd.DataFrame({\"img_name\":filenames,\n",
        "                      \"label\":predictions})\n",
        "results.to_csv(\"results.csv\",index=False)"
      ],
      "execution_count": 71,
      "outputs": [
        {
          "output_type": "stream",
          "text": [
            "7653/7653 [==============================] - 107s 14ms/step\n"
          ],
          "name": "stdout"
        }
      ]
    },
    {
      "cell_type": "code",
      "metadata": {
        "id": "YfRm81gaBZzh"
      },
      "source": [
        ""
      ],
      "execution_count": null,
      "outputs": []
    }
  ]
}