{
  "nbformat": 4,
  "nbformat_minor": 0,
  "metadata": {
    "colab": {
      "name": "TestVisionTransformer.ipynb",
      "provenance": [],
      "authorship_tag": "ABX9TyOIQO4HR5SHPOr56td7GSg6",
      "include_colab_link": true
    },
    "kernelspec": {
      "name": "python3",
      "display_name": "Python 3"
    },
    "accelerator": "GPU"
  },
  "cells": [
    {
      "cell_type": "markdown",
      "metadata": {
        "id": "view-in-github",
        "colab_type": "text"
      },
      "source": [
        "<a href=\"https://colab.research.google.com/github/mswaringen/aml_food/blob/master/TestVisionTransformer.ipynb\" target=\"_parent\"><img src=\"https://colab.research.google.com/assets/colab-badge.svg\" alt=\"Open In Colab\"/></a>"
      ]
    },
    {
      "cell_type": "code",
      "metadata": {
        "colab": {
          "base_uri": "https://localhost:8080/"
        },
        "id": "N64jiyMWu6Vi",
        "outputId": "016c5157-d0dd-4825-e197-4dddb160b419"
      },
      "source": [
        "!pip install einops"
      ],
      "execution_count": 5,
      "outputs": [
        {
          "output_type": "stream",
          "text": [
            "Collecting einops\n",
            "  Downloading https://files.pythonhosted.org/packages/5d/a0/9935e030634bf60ecd572c775f64ace82ceddf2f504a5fd3902438f07090/einops-0.3.0-py2.py3-none-any.whl\n",
            "Installing collected packages: einops\n",
            "Successfully installed einops-0.3.0\n"
          ],
          "name": "stdout"
        }
      ]
    },
    {
      "cell_type": "code",
      "metadata": {
        "id": "D4XH8QmFtVQR"
      },
      "source": [
        "import tensorflow as tf\n",
        "\n",
        "from tensorflow.keras import datasets\n",
        "\n",
        "from model import ViT\n",
        "from trainer import Trainer, TrainerConfig"
      ],
      "execution_count": 6,
      "outputs": []
    },
    {
      "cell_type": "code",
      "metadata": {
        "colab": {
          "base_uri": "https://localhost:8080/"
        },
        "id": "VLCSxxJkumNU",
        "outputId": "69223054-003a-496f-e09d-071ebaeeb57b"
      },
      "source": [
        "(train_images, train_labels), (test_images, test_labels) = datasets.cifar10.load_data()"
      ],
      "execution_count": 7,
      "outputs": [
        {
          "output_type": "stream",
          "text": [
            "Downloading data from https://www.cs.toronto.edu/~kriz/cifar-10-python.tar.gz\n",
            "170500096/170498071 [==============================] - 11s 0us/step\n"
          ],
          "name": "stdout"
        }
      ]
    },
    {
      "cell_type": "code",
      "metadata": {
        "id": "7TtUkC59vDOU"
      },
      "source": [
        "train_images = tf.cast(train_images.reshape((-1, 3, 32, 32)),dtype=tf.float32)\n",
        "test_images = tf.cast(test_images.reshape((-1, 3, 32, 32)),dtype=tf.float32)\n",
        "train_images, test_images = train_images / 255.0, test_images / 255.0"
      ],
      "execution_count": 8,
      "outputs": []
    },
    {
      "cell_type": "code",
      "metadata": {
        "id": "tOxnn1ievGnt"
      },
      "source": [
        "train_x = tf.data.Dataset.from_tensor_slices(train_images,)\n",
        "train_y = tf.data.Dataset.from_tensor_slices(train_labels)\n",
        "train_dataset = tf.data.Dataset.zip((train_x,train_y))\n",
        "test_x = tf.data.Dataset.from_tensor_slices(test_images)\n",
        "test_y = tf.data.Dataset.from_tensor_slices(test_labels)\n",
        "test_dataset = tf.data.Dataset.zip((test_x,test_y))"
      ],
      "execution_count": 9,
      "outputs": []
    },
    {
      "cell_type": "code",
      "metadata": {
        "id": "VQQ9VVmAvI9y"
      },
      "source": [
        "tconf = TrainerConfig(max_epochs=10, batch_size=64, learning_rate=1e-3)"
      ],
      "execution_count": 10,
      "outputs": []
    },
    {
      "cell_type": "code",
      "metadata": {
        "id": "N4q7_ow_vK57"
      },
      "source": [
        "# sample model config.\n",
        "model_config = {\"image_size\":32,\n",
        "                \"patch_size\":4,\n",
        "                \"num_classes\":10,\n",
        "                \"dim\":64,\n",
        "                \"depth\":3,\n",
        "                \"heads\":4,\n",
        "                \"mlp_dim\":128}"
      ],
      "execution_count": 11,
      "outputs": []
    },
    {
      "cell_type": "code",
      "metadata": {
        "id": "lGXR-2fqvOav"
      },
      "source": [
        "trainer = Trainer(ViT, model_config, train_dataset, len(train_images), test_dataset, len(test_images), tconf)"
      ],
      "execution_count": 12,
      "outputs": []
    },
    {
      "cell_type": "code",
      "metadata": {
        "colab": {
          "base_uri": "https://localhost:8080/",
          "height": 363
        },
        "id": "G1jcMqmYvRZK",
        "outputId": "5d641783-9938-4840-983e-e30155566ad4"
      },
      "source": [
        "trainer.train()"
      ],
      "execution_count": 13,
      "outputs": [
        {
          "output_type": "display_data",
          "data": {
            "text/html": [
              ""
            ],
            "text/plain": [
              "<IPython.core.display.HTML object>"
            ]
          },
          "metadata": {
            "tags": []
          }
        },
        {
          "output_type": "stream",
          "text": [
            "epoch 1: train loss 1.79456. train accuracy 0.34128\n",
            "epoch 1: test loss 1.55124. test accuracy 0.43080\n",
            "epoch 2: train loss 1.52455. train accuracy 0.44654\n",
            "epoch 2: test loss 1.47759. test accuracy 0.46140\n",
            "epoch 3: train loss 1.42387. train accuracy 0.48672\n",
            "epoch 3: test loss 1.40336. test accuracy 0.48990\n",
            "epoch 4: train loss 1.35542. train accuracy 0.51280\n",
            "epoch 4: test loss 1.40954. test accuracy 0.49610\n",
            "epoch 5: train loss 1.30366. train accuracy 0.53346\n",
            "epoch 5: test loss 1.39937. test accuracy 0.50090\n",
            "epoch 6: train loss 1.26155. train accuracy 0.54746\n",
            "epoch 6: test loss 1.38725. test accuracy 0.50630\n",
            "epoch 7: train loss 1.22321. train accuracy 0.56250\n",
            "epoch 7: test loss 1.39503. test accuracy 0.50840\n",
            "epoch 8: train loss 1.19037. train accuracy 0.57472\n",
            "epoch 8: test loss 1.40950. test accuracy 0.50710\n",
            "epoch 9: train loss 1.15928. train accuracy 0.58514\n",
            "epoch 9: test loss 1.42246. test accuracy 0.50720\n",
            "epoch 10: train loss 1.13377. train accuracy 0.59314\n",
            "epoch 10: test loss 1.43913. test accuracy 0.50210\n"
          ],
          "name": "stdout"
        }
      ]
    },
    {
      "cell_type": "code",
      "metadata": {
        "id": "K6UpMEYXvTK1"
      },
      "source": [
        ""
      ],
      "execution_count": null,
      "outputs": []
    }
  ]
}