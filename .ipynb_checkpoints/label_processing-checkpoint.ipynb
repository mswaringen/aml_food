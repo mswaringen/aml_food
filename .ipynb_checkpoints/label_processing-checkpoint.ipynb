{
 "cells": [
  {
   "cell_type": "code",
   "execution_count": 2,
   "metadata": {},
   "outputs": [],
   "source": [
    "import os\n",
    "import pandas as pd\n",
    "import numpy as np\n",
    "import joblib\n",
    "from imutils import paths\n",
    "from sklearn.preprocessing import LabelBinarizer\n",
    "from tqdm import tqdm"
   ]
  },
  {
   "cell_type": "code",
   "execution_count": 10,
   "metadata": {},
   "outputs": [
    {
     "name": "stdout",
     "output_type": "stream",
     "text": [
      "The first one hot encoded labels: [0 0 0 0 0 0 0 0 0 0 0 0 0 0 0 0 0 0 0 0 1 0 0 0 0 0 0 0 0 0 0 0 0 0 0 0 0\n",
      " 0 0 0 0 0 0 0 0 0 0 0 0 0 0 0 0 0 0 0 0 0 0 0 0 0 0 0 0 0 0 0 0 0 0 0 0 0\n",
      " 0 0 0 0 0 0]\n",
      "Mapping an one hot encoded label to its category: 1\n",
      "Total instances: 30612\n",
      "Save the one-hot encoded binarized labels as a pickled file.\n",
      "                                 image_path  target\n",
      "0  data/train_set/train_set/train_20414.jpg    31.0\n",
      "1  data/train_set/train_set/train_27359.jpg    64.0\n",
      "2  data/train_set/train_set/train_14984.jpg    30.0\n",
      "3  data/train_set/train_set/train_10747.jpg    58.0\n",
      "4   data/train_set/train_set/train_5199.jpg    12.0\n"
     ]
    }
   ],
   "source": [
    "# read the data.csv file and get the image paths and labels\n",
    "df = pd.read_csv('data/train_labels.csv')\n",
    "path = 'data/train_set/train_set/'\n",
    "\n",
    "data = pd.DataFrame()\n",
    "data['image_path'] = path+df.img_name.values\n",
    "labels = np.array(df.label.values)\n",
    "\n",
    "# one hot encode\n",
    "lb = LabelBinarizer()\n",
    "labels = lb.fit_transform(labels)\n",
    "print(f\"The first one hot encoded labels: {labels[0]}\")\n",
    "print(f\"Mapping an one hot encoded label to its category: {lb.classes_[0]}\")\n",
    "print(f\"Total instances: {len(labels)}\")\n",
    "for i in range(len(labels)):\n",
    "    index = np.argmax(labels[i])\n",
    "    data.loc[i, 'target'] = int(index)\n",
    "# shuffle the dataset\n",
    "data = data.sample(frac=1).reset_index(drop=True)\n",
    "# save as csv file\n",
    "data.to_csv('data/labelized.csv', index=False)\n",
    "# pickle the label binarizer\n",
    "joblib.dump(lb, 'data/lb.pkl')\n",
    "print('Save the one-hot encoded binarized labels as a pickled file.')\n",
    "print(data.head())"
   ]
  }
 ],
 "metadata": {
  "kernelspec": {
   "display_name": "Python 3",
   "language": "python",
   "name": "python3"
  },
  "language_info": {
   "codemirror_mode": {
    "name": "ipython",
    "version": 3
   },
   "file_extension": ".py",
   "mimetype": "text/x-python",
   "name": "python",
   "nbconvert_exporter": "python",
   "pygments_lexer": "ipython3",
   "version": "3.7.9"
  }
 },
 "nbformat": 4,
 "nbformat_minor": 4
}
